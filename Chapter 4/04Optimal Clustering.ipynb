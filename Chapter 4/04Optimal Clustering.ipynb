{
 "cells": [
  {
   "cell_type": "markdown",
   "source": [
    "### Optimal Clustering\n",
    "\n",
    "#### 1. Motivation\n",
    "\n",
    "군집화 문제는 객체 집합과 이들과 연관이 있는 특성 집합으로 구성된다"
   ],
   "metadata": {
    "collapsed": false
   }
  },
  {
   "cell_type": "markdown",
   "source": [
    "#### 2. Proximity Matrix\n",
    "\n",
    "$N \\times F$ 차수의 데이터 행렬 $X$를 고려하자. 여기서 $N$은 객체의 수이고, $F$는 특성의 수이다. 특성을 사용해 객체 간의 $N \\times N$행렬로 표현되는 근접성을 계산한다. 근접성 척도는 유사도 또는 비유사도를 가리킬 수 있다"
   ],
   "metadata": {
    "collapsed": false
   }
  },
  {
   "cell_type": "code",
   "execution_count": null,
   "metadata": {
    "collapsed": true
   },
   "outputs": [],
   "source": []
  }
 ],
 "metadata": {
  "kernelspec": {
   "display_name": "Python 3",
   "language": "python",
   "name": "python3"
  },
  "language_info": {
   "codemirror_mode": {
    "name": "ipython",
    "version": 2
   },
   "file_extension": ".py",
   "mimetype": "text/x-python",
   "name": "python",
   "nbconvert_exporter": "python",
   "pygments_lexer": "ipython2",
   "version": "2.7.6"
  }
 },
 "nbformat": 4,
 "nbformat_minor": 0
}
