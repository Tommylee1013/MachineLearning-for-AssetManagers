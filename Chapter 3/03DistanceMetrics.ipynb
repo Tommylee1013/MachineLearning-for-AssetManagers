{
 "cells": [
  {
   "cell_type": "markdown",
   "source": [
    "### Distance Metrics\n",
    "\n",
    "#### 1. Motivation\n",
    "\n",
    "정보 이론, 특히 Shannon's entropy 개념은 금융에 유용한 응용 분야를 갖고 있다. 엔트로피의 핵심 아이디어는 랜덤 변수와 관련된 불확실성의 양을 계량화하는 것이다. 많은 머신러닝 알고리즘의 1차 목표는 문제 해결과 관련된 불확실성의 양을 줄이는 것이기 때문에 정보 이론은 머신러닝에 필수적이다"
   ],
   "metadata": {
    "collapsed": false
   },
   "id": "ab59bd94d2aa2a56"
  },
  {
   "cell_type": "markdown",
   "source": [
    "#### 2. A Correlation-Based Metric\n",
    "\n",
    "상관계수는 선형적 상호의존성의 유용한 척도이다. 일단 상관계수 행렬의 잡음과 주음이 제거되면 시스템에 대한 중요한 구조 정보를 보일 수 있다. 예를 들어, 상호연관성이 매우 높은 유가증권의 군집을 식별하고자 상관계수를 사용할 수 있다\n",
    "\n",
    "그러나, 상관계수를 사용하기 전에 기술적 문제를 해결해야 한다. 상관계수는 비음성과 삼각 부등식 조건을 충족시키지 못하기 때문에 척도가 되지 못한다. 거리 척도는 집합에 대한 직관적인 위상관계를 유도하기 때문에 중요하다. 이러한 직관적 위상관계 없이 상호의존성의 비거리적 측정을 비교하는 것은 다소 일관성 없는 결과를 초래할 수 있다\n",
    "\n",
    "크기 T의 랜덤 벡터 $X$와 $Y$와 상관계수 추정치 $\\rho(X,Y)$를 고려하자. 상관계수는 단지 $\\sigma(X,Y) = \\rho(X,Y)\\sigma(X)\\sigma(Y)$만을 만족하면 된다. 피어슨 상관계수는 이들 조건을 만족하는 여러 상관계수 추정치 중 하나이다. 이때 $d_\\rho(X,Y) = \\sqrt{1/2(1 - \\rho(X,Y))}$는 거리 척도이다\n",
    "\n",
    "거리 척도 $d(X, Y)$는 $\\rho(X,Y) \\in [-1, 1]$이므로 정규화 특성 $d_p(X,Y) \\in [0,1]$을 갖는다. 또 다른 특성은 절대값에 상관없이 음의 상관계수를 갖는 두 랜덤 변수가 양의 상관계수를 갖는 두 랜덤변수보다 더 멀게 된다는 것이다. 이 특성은 여러 응용에서 합리적이다. 예를 들어, long only portfolio를 구축하고자 할 때, 음의 상관계수를 갖는 보유 종목들은 단지 위험만을 상쇄하므로 분산 목적을 위해 다르게 취급해야만 한다\n",
    "\n",
    "다른 예로, long-short portfolio를 들 수 있는데 종종 매우 큰 음의 상관계수를 가진 증권을 유사하게 고려한다. 이 경우 대안적인 정규화된 상관계수 기반의 거리 척도 $d_{|\\rho|}(X,Y) = \\sqrt{1 - |\\rho(X,Y)|}$를 정의할 수 있다\n",
    "\n",
    "마찬가지로 $d_{|\\rho|}$가 $Z/2Z$비율에 대한 진정한 척도로 축약되는 것 또한 보일 수 있다\n",
    "\n",
    "$$d(x,y) = \\sqrt{2T(1 - \\rho(x,y)} = \\sqrt{2T}d_{|\\rho|}(X,Y)$$"
   ],
   "metadata": {
    "collapsed": false
   },
   "id": "485720a8ed0b9ce9"
  },
  {
   "cell_type": "code",
   "execution_count": 1,
   "outputs": [],
   "source": [
    "import pandas_datareader as web\n",
    "start_date = '2019-09-01'\n",
    "end_date = '2023-08-31'\n",
    "\n",
    "kodex_etf = '069500' # KODEX 200\n",
    "kospi200_etf = '069660'  # kiwoom KOSEF KOSPI 200\n",
    "kosdaq150_etf = '316670'  # kiwoom KOSDAQ 150\n",
    "samsung_code = '005930'  # Samsung\n",
    "lg_code = '066570'  # LG\n",
    "posco_code = '005490'  # POSCO\n",
    "\n",
    "kodex = web.DataReader(kodex_etf, 'naver', start = start_date, end = end_date).astype(float).Close\n",
    "kospi = web.DataReader(kospi200_etf, 'naver', start = start_date, end = end_date).astype(float).Close\n",
    "kosdaq = web.DataReader(kosdaq150_etf, 'naver', start = start_date, end = end_date).astype(float).Close\n",
    "samsung = web.DataReader(samsung_code, 'naver', start = start_date, end = end_date).astype(float).Close\n",
    "lg = web.DataReader(lg_code, 'naver', start = start_date, end = end_date).astype(float).Close\n",
    "posco = web.DataReader(posco_code, 'naver', start = start_date, end = end_date).astype(float).Close"
   ],
   "metadata": {
    "collapsed": false,
    "ExecuteTime": {
     "end_time": "2023-09-04T08:08:33.963434Z",
     "start_time": "2023-09-04T08:08:32.941533Z"
    }
   },
   "id": "aa2cf17e6726c219"
  },
  {
   "cell_type": "code",
   "execution_count": 2,
   "outputs": [],
   "source": [
    "import numpy as np\n",
    "import pandas as pd\n",
    "\n",
    "kodex_ret = np.log(kodex/kodex.shift(1)).dropna()\n",
    "kospi_ret = np.log(kospi/kospi.shift(1)).dropna()\n",
    "kosdaq_ret = np.log(kosdaq/kosdaq.shift(1)).dropna()\n",
    "samsung_ret = np.log(samsung/samsung.shift(1)).dropna()\n",
    "lg_ret = np.log(lg/lg.shift(1)).dropna()\n",
    "posco_ret = np.log(posco/posco.shift(1)).dropna()\n",
    "matrix = pd.concat([kodex_ret, kospi_ret, kosdaq_ret, samsung_ret, lg_ret, posco_ret], axis = 1)\n",
    "matrix.columns = ['KODEX','KOSPI','KOSDAQ','Samsung','LG','Posco']"
   ],
   "metadata": {
    "collapsed": false,
    "ExecuteTime": {
     "end_time": "2023-09-04T08:12:05.583929Z",
     "start_time": "2023-09-04T08:12:05.577408Z"
    }
   },
   "id": "fb23dee2fa27e822"
  },
  {
   "cell_type": "code",
   "execution_count": 3,
   "outputs": [
    {
     "data": {
      "text/plain": "            KODEX     KOSPI    KOSDAQ   Samsung        LG     Posco\nKODEX    1.000000  0.997660  0.737888  0.853203  0.522377  0.565980\nKOSPI    0.997660  1.000000  0.734899  0.854983  0.521810  0.563844\nKOSDAQ   0.737888  0.734899  1.000000  0.523702  0.375575  0.373946\nSamsung  0.853203  0.854983  0.523702  1.000000  0.385661  0.422512\nLG       0.522377  0.521810  0.375575  0.385661  1.000000  0.297815\nPosco    0.565980  0.563844  0.373946  0.422512  0.297815  1.000000",
      "text/html": "<div>\n<style scoped>\n    .dataframe tbody tr th:only-of-type {\n        vertical-align: middle;\n    }\n\n    .dataframe tbody tr th {\n        vertical-align: top;\n    }\n\n    .dataframe thead th {\n        text-align: right;\n    }\n</style>\n<table border=\"1\" class=\"dataframe\">\n  <thead>\n    <tr style=\"text-align: right;\">\n      <th></th>\n      <th>KODEX</th>\n      <th>KOSPI</th>\n      <th>KOSDAQ</th>\n      <th>Samsung</th>\n      <th>LG</th>\n      <th>Posco</th>\n    </tr>\n  </thead>\n  <tbody>\n    <tr>\n      <th>KODEX</th>\n      <td>1.000000</td>\n      <td>0.997660</td>\n      <td>0.737888</td>\n      <td>0.853203</td>\n      <td>0.522377</td>\n      <td>0.565980</td>\n    </tr>\n    <tr>\n      <th>KOSPI</th>\n      <td>0.997660</td>\n      <td>1.000000</td>\n      <td>0.734899</td>\n      <td>0.854983</td>\n      <td>0.521810</td>\n      <td>0.563844</td>\n    </tr>\n    <tr>\n      <th>KOSDAQ</th>\n      <td>0.737888</td>\n      <td>0.734899</td>\n      <td>1.000000</td>\n      <td>0.523702</td>\n      <td>0.375575</td>\n      <td>0.373946</td>\n    </tr>\n    <tr>\n      <th>Samsung</th>\n      <td>0.853203</td>\n      <td>0.854983</td>\n      <td>0.523702</td>\n      <td>1.000000</td>\n      <td>0.385661</td>\n      <td>0.422512</td>\n    </tr>\n    <tr>\n      <th>LG</th>\n      <td>0.522377</td>\n      <td>0.521810</td>\n      <td>0.375575</td>\n      <td>0.385661</td>\n      <td>1.000000</td>\n      <td>0.297815</td>\n    </tr>\n    <tr>\n      <th>Posco</th>\n      <td>0.565980</td>\n      <td>0.563844</td>\n      <td>0.373946</td>\n      <td>0.422512</td>\n      <td>0.297815</td>\n      <td>1.000000</td>\n    </tr>\n  </tbody>\n</table>\n</div>"
     },
     "execution_count": 3,
     "metadata": {},
     "output_type": "execute_result"
    }
   ],
   "source": [
    "matrix.corr()"
   ],
   "metadata": {
    "collapsed": false,
    "ExecuteTime": {
     "end_time": "2023-09-04T08:12:12.124942Z",
     "start_time": "2023-09-04T08:12:12.114078Z"
    }
   },
   "id": "de6437f8bbc4f071"
  },
  {
   "cell_type": "code",
   "execution_count": 19,
   "outputs": [],
   "source": [
    "import numpy as np\n",
    "import matplotlib.pyplot as plt\n",
    "from RandomMatrixWithSignal import cov2corr, getRndCov\n",
    "from MarcenkoPastur import getPCA\n",
    "from FittingMarcenkoPastur import findMaxEval\n",
    "from ConstantResidual import denoisedCorr, denoisedCorr2\n",
    "\n",
    "alpha, nCols, nFact, q = 0.995, 6, 100, 10\n",
    "\n",
    "cov = alpha * matrix.cov() + (1-alpha) * getRndCov(nCols, nFact)\n",
    "corr0 = cov2corr(cov)\n",
    "eVal0, eVec0 = getPCA(corr0)\n",
    "\n",
    "eMax0, var0 = findMaxEval(np.diag(eVal0), q, bWidth = 0.01)\n",
    "nFacts0 = eVal0.shape[0] - np.diag(eVal0)[::-1].searchsorted(eMax0)\n",
    "\n",
    "corr1 = denoisedCorr(eVal0, eVec0, nFacts0)\n",
    "eVal1, eVec1 = getPCA(corr1)\n",
    "denoised_eigenvalue = np.diag(eVal1)\n",
    "eigenvalue_prior = np.diag(eVal0)"
   ],
   "metadata": {
    "collapsed": false,
    "ExecuteTime": {
     "end_time": "2023-09-04T08:32:59.500866Z",
     "start_time": "2023-09-04T08:32:59.491041Z"
    }
   },
   "id": "e095d2a8e575d9e9"
  },
  {
   "cell_type": "code",
   "execution_count": 20,
   "outputs": [
    {
     "data": {
      "text/plain": "Text(0.5, 1.0, 'Denoising with Constant residual eigenvalue method')"
     },
     "execution_count": 20,
     "metadata": {},
     "output_type": "execute_result"
    },
    {
     "data": {
      "text/plain": "<Figure size 600x400 with 1 Axes>",
      "image/png": "[encoded data removed]"
     },
     "metadata": {},
     "output_type": "display_data"
    }
   ],
   "source": [
    "plt.figure(figsize = (6,4))\n",
    "plt.grid(False)\n",
    "plt.plot(eigenvalue_prior, label = 'Original eigen-function')\n",
    "plt.plot(denoised_eigenvalue, label = 'Denoised eigen-function', ls = '--')\n",
    "plt.yscale('log')\n",
    "plt.xlabel(r'$\\lambda$', fontfamily='Serif')\n",
    "plt.ylabel(r'number of $\\lambda$', fontfamily='Serif')\n",
    "plt.legend(loc='upper right', fontsize=9)\n",
    "plt.title('Denoising with Constant residual eigenvalue method', fontsize=10, fontfamily='Serif')"
   ],
   "metadata": {
    "collapsed": false,
    "ExecuteTime": {
     "end_time": "2023-09-04T08:33:36.584882Z",
     "start_time": "2023-09-04T08:33:36.326786Z"
    }
   },
   "id": "dbe8982161c0bdda"
  },
  {
   "cell_type": "code",
   "execution_count": 31,
   "outputs": [
    {
     "data": {
      "text/plain": "            KODEX     KOSPI    KOSDAQ   Samsung        LG     Posco\nKODEX    0.642635 -0.354230 -0.229160  0.527779 -0.610190  0.053355\nKOSPI   -0.047217  0.280928 -0.797027  0.094356  0.353176  0.387375\nKOSDAQ  -0.657058  0.385764 -0.209789 -0.046004 -0.656569  0.156890\nSamsung -0.243613  0.002106  0.232868  0.814506  0.252732  0.158001\nLG      -0.080619  0.396666  0.462299 -0.067245 -0.087090  0.657314\nPosco   -0.295330  0.699599 -0.016543  0.206127 -0.019849 -0.604527",
      "text/html": "<div>\n<style scoped>\n    .dataframe tbody tr th:only-of-type {\n        vertical-align: middle;\n    }\n\n    .dataframe tbody tr th {\n        vertical-align: top;\n    }\n\n    .dataframe thead th {\n        text-align: right;\n    }\n</style>\n<table border=\"1\" class=\"dataframe\">\n  <thead>\n    <tr style=\"text-align: right;\">\n      <th></th>\n      <th>KODEX</th>\n      <th>KOSPI</th>\n      <th>KOSDAQ</th>\n      <th>Samsung</th>\n      <th>LG</th>\n      <th>Posco</th>\n    </tr>\n  </thead>\n  <tbody>\n    <tr>\n      <th>KODEX</th>\n      <td>0.642635</td>\n      <td>-0.354230</td>\n      <td>-0.229160</td>\n      <td>0.527779</td>\n      <td>-0.610190</td>\n      <td>0.053355</td>\n    </tr>\n    <tr>\n      <th>KOSPI</th>\n      <td>-0.047217</td>\n      <td>0.280928</td>\n      <td>-0.797027</td>\n      <td>0.094356</td>\n      <td>0.353176</td>\n      <td>0.387375</td>\n    </tr>\n    <tr>\n      <th>KOSDAQ</th>\n      <td>-0.657058</td>\n      <td>0.385764</td>\n      <td>-0.209789</td>\n      <td>-0.046004</td>\n      <td>-0.656569</td>\n      <td>0.156890</td>\n    </tr>\n    <tr>\n      <th>Samsung</th>\n      <td>-0.243613</td>\n      <td>0.002106</td>\n      <td>0.232868</td>\n      <td>0.814506</td>\n      <td>0.252732</td>\n      <td>0.158001</td>\n    </tr>\n    <tr>\n      <th>LG</th>\n      <td>-0.080619</td>\n      <td>0.396666</td>\n      <td>0.462299</td>\n      <td>-0.067245</td>\n      <td>-0.087090</td>\n      <td>0.657314</td>\n    </tr>\n    <tr>\n      <th>Posco</th>\n      <td>-0.295330</td>\n      <td>0.699599</td>\n      <td>-0.016543</td>\n      <td>0.206127</td>\n      <td>-0.019849</td>\n      <td>-0.604527</td>\n    </tr>\n  </tbody>\n</table>\n</div>"
     },
     "execution_count": 31,
     "metadata": {},
     "output_type": "execute_result"
    }
   ],
   "source": [
    "matrix_denoised = pd.DataFrame(eVec1, columns = matrix.columns, index = matrix.columns)\n",
    "matrix_denoised"
   ],
   "metadata": {
    "collapsed": false,
    "ExecuteTime": {
     "end_time": "2023-09-04T08:45:18.010218Z",
     "start_time": "2023-09-04T08:45:18.004985Z"
    }
   },
   "id": "e6732c7c251999a3"
  },
  {
   "cell_type": "code",
   "execution_count": 42,
   "id": "initial_id",
   "metadata": {
    "collapsed": true,
    "ExecuteTime": {
     "end_time": "2023-09-04T08:53:38.273860Z",
     "start_time": "2023-09-04T08:53:38.257481Z"
    }
   },
   "outputs": [],
   "source": [
    "def corrBasedMetric(corr : pd.DataFrame) -> pd.DataFrame :\n",
    "    T = len(corr.iloc[:,0])\n",
    "    result = np.sqrt(2 * T *(1 - np.abs(corr)))\n",
    "    return result"
   ]
  },
  {
   "cell_type": "code",
   "execution_count": 43,
   "outputs": [
    {
     "data": {
      "text/plain": "            KODEX     KOSPI    KOSDAQ   Samsung        LG     Posco\nKODEX    2.070841  2.783746  3.041393  2.380474  2.162804  3.370421\nKOSPI    3.381331  2.937492  1.560664  3.296623  2.786016  2.711365\nKOSDAQ   2.028622  2.714927  3.079371  3.383482  2.030068  3.180773\nSamsung  3.012748  3.460452  3.034070  1.491954  2.994531  3.178678\nLG       3.321531  2.690727  2.540160  3.345603  3.309822  2.027864\nPosco    2.907926  1.898636  3.435328  3.086500  3.429550  2.178456",
      "text/html": "<div>\n<style scoped>\n    .dataframe tbody tr th:only-of-type {\n        vertical-align: middle;\n    }\n\n    .dataframe tbody tr th {\n        vertical-align: top;\n    }\n\n    .dataframe thead th {\n        text-align: right;\n    }\n</style>\n<table border=\"1\" class=\"dataframe\">\n  <thead>\n    <tr style=\"text-align: right;\">\n      <th></th>\n      <th>KODEX</th>\n      <th>KOSPI</th>\n      <th>KOSDAQ</th>\n      <th>Samsung</th>\n      <th>LG</th>\n      <th>Posco</th>\n    </tr>\n  </thead>\n  <tbody>\n    <tr>\n      <th>KODEX</th>\n      <td>2.070841</td>\n      <td>2.783746</td>\n      <td>3.041393</td>\n      <td>2.380474</td>\n      <td>2.162804</td>\n      <td>3.370421</td>\n    </tr>\n    <tr>\n      <th>KOSPI</th>\n      <td>3.381331</td>\n      <td>2.937492</td>\n      <td>1.560664</td>\n      <td>3.296623</td>\n      <td>2.786016</td>\n      <td>2.711365</td>\n    </tr>\n    <tr>\n      <th>KOSDAQ</th>\n      <td>2.028622</td>\n      <td>2.714927</td>\n      <td>3.079371</td>\n      <td>3.383482</td>\n      <td>2.030068</td>\n      <td>3.180773</td>\n    </tr>\n    <tr>\n      <th>Samsung</th>\n      <td>3.012748</td>\n      <td>3.460452</td>\n      <td>3.034070</td>\n      <td>1.491954</td>\n      <td>2.994531</td>\n      <td>3.178678</td>\n    </tr>\n    <tr>\n      <th>LG</th>\n      <td>3.321531</td>\n      <td>2.690727</td>\n      <td>2.540160</td>\n      <td>3.345603</td>\n      <td>3.309822</td>\n      <td>2.027864</td>\n    </tr>\n    <tr>\n      <th>Posco</th>\n      <td>2.907926</td>\n      <td>1.898636</td>\n      <td>3.435328</td>\n      <td>3.086500</td>\n      <td>3.429550</td>\n      <td>2.178456</td>\n    </tr>\n  </tbody>\n</table>\n</div>"
     },
     "execution_count": 43,
     "metadata": {},
     "output_type": "execute_result"
    }
   ],
   "source": [
    "corrBasedMetric(matrix_denoised)"
   ],
   "metadata": {
    "collapsed": false,
    "ExecuteTime": {
     "end_time": "2023-09-04T08:53:38.750042Z",
     "start_time": "2023-09-04T08:53:38.744829Z"
    }
   },
   "id": "36bcb0229db9ae75"
  },
  {
   "cell_type": "code",
   "execution_count": 44,
   "outputs": [
    {
     "data": {
      "text/plain": "Text(0.5, 1.0, 'A Correlation based metric')"
     },
     "execution_count": 44,
     "metadata": {},
     "output_type": "execute_result"
    },
    {
     "data": {
      "text/plain": "<Figure size 600x500 with 2 Axes>",
      "image/png": "[encoded data removed]"
     },
     "metadata": {},
     "output_type": "display_data"
    }
   ],
   "source": [
    "import seaborn as sns\n",
    "mask = np.triu(np.ones_like(matrix.cov(), dtype = bool))\n",
    "f, ax = plt.subplots(figsize = (6, 5))\n",
    "cmap = sns.diverging_palette(230, 20, as_cmap = True)\n",
    "plt.grid(False)\n",
    "sns.heatmap(corrBasedMetric(matrix_denoised), mask = mask, cmap = cmap,\n",
    "            square = True, linewidths = .5, cbar_kws = {\"shrink\": .9}, annot = True)\n",
    "plt.title('A Correlation based metric', fontsize = 12, fontfamily = 'Serif')"
   ],
   "metadata": {
    "collapsed": false,
    "ExecuteTime": {
     "end_time": "2023-09-04T08:53:39.968349Z",
     "start_time": "2023-09-04T08:53:39.822548Z"
    }
   },
   "id": "efd59e6d74970212"
  },
  {
   "cell_type": "markdown",
   "source": [
    "#### 3. Marginal and Joint Entropy\n",
    "\n",
    "상관계수 개념은 세 가지 중요한 결점을 제공한다.\n",
    "1. 이는 두 랜덤 변수 간의 선형 상호의존성을 계량화한다. 이는 비선형관계를 무시한다\n",
    "2. 상관계수는 특이치에 크게 영향을 받는다\n",
    "3. 다변수 정규 분포의 경우를 넘어서는 응용은 의심스럽다\n",
    "\n",
    "어떤 두 실수 변수간의 상관관계를 포착하고 싶지만, 두 변수가 이변수 정규 분포를 따르지 않는다면 상관계수는 일반적으로 의미가 없어진다. 이러한 결함을 극복하고자 몇 가지 정보이론 개념을 도입해야 한다\n",
    "\n",
    "$X$를 확률 $p(x)$로 집합 $S_X$로부터 $x$값을 취하는 이산 랜덤 변수라 하자. $X$의 엔트로피는 다음과 같이 정의된다\n",
    "\n",
    "$$H(X) = -\\sum_{x \\in S_X}p(x)\\log p(x)$$\n",
    "\n",
    "대부분의 경우, Entropy는 단일변수가 아닌 이변수 이상을 고려할 것이다. $Y$를 확률 $p(yP$로 집합 $S_Y$로부터 $y$값을 취하는 이산 랜덤 변수라 하자. 랜덤 변수 $X$와 $Y$는 동일한 확률 공간에서 정의돌 필요는 없다. $X$와 $Y$의 Joint entropy는 다음과 같다\n",
    "\n",
    "$$H(X,Y) = -\\sum_{x,y \\in S_X \\times S_Y}p(x,y) \\log p(x,y)$$\n",
    "\n",
    "특히 $H(X,Y) = H(Y,X), H(X,X) = H(X), H(X,Y) \\geq \\max[H(X),H(Y)]$이고, $H(X,Y) \\leq H(X) + H(Y)$이다\n",
    "\n",
    "Shannon의 엔트로피는 단지 이산 랜덤 변수에 대해서만 유한하다는 것을 인지하는 것이 중요하다. 연속인 경우 이산 포인트의 Limiting Density of Discrete Point를 사용하거나 랜덤 변수를 이산화해야 한다"
   ],
   "metadata": {
    "collapsed": false
   },
   "id": "485287684c647df6"
  },
  {
   "cell_type": "markdown",
   "source": [
    "#### 4. Conditional entropy\n",
    "\n",
    "$Y$가 주어졌을 때 $X$의 Conditional entropy는 다음과 같이 정의된다\n",
    "\n",
    "$$H(X|Y) = H(X,Y) - H(Y) = -\\sum_{y \\in S_Y}p(y)\\sum_{x \\in S_X}p(x|Y=y) \\log p(x|Y = y)$$\n",
    "\n",
    "여기서 $p(x |Y=y)$는 $Y$가 $y$값을 취할 때 조건부로 $X$가 $x$값을 취하는 확률이다. 이 정의를 따라서 $H(X|Y)$는 $Y$의 값을 들었을 때 $X$에서 기대하는 불확실성이다. 따라서 $H(X|Y)=0$이고, $H(X) \\geq H(X|Y)$이다"
   ],
   "metadata": {
    "collapsed": false
   }
  },
  {
   "cell_type": "code",
   "execution_count": 10,
   "outputs": [],
   "source": [
    "import numpy as np,scipy.stats as ss\n",
    "from sklearn.metrics import mutual_info_score \n",
    "\n",
    "def numBins(nObs,corr=None):\n",
    "    if corr is None: # univariate case\n",
    "        z=(8+324*nObs+12*(36*nObs+729*nObs**2)**.5)**(1/3.)\n",
    "        b=round(z/6.+2./(3*z)+1./3) \n",
    "    else: # bivariate case\n",
    "        b=round(2**-.5*(1+(1+24*nObs/(1.-corr**2))**.5)**.5) \n",
    "    return int(b)\n",
    "def varInfo(x,y,norm=False):\n",
    "    bXY=numBins(x.shape[0],corr=np.corrcoef(x,y)[0,1]) \n",
    "    cXY=np.histogram2d(x,y,bXY)[0] \n",
    "    iXY=mutual_info_score(None,None,contingency=cXY) \n",
    "    hX=ss.entropy(np.histogram(x,bXY)[0]) # marginal \n",
    "    hY=ss.entropy(np.histogram(y,bXY)[0]) # marginal \n",
    "    vXY=hX+hY-2*iXY # variation of information\n",
    "    if norm:\n",
    "        hXY=hX+hY-iXY # joint\n",
    "        vXY/=hXY # normalized variation of information\n",
    "    return vXY"
   ],
   "metadata": {
    "collapsed": false,
    "ExecuteTime": {
     "end_time": "2023-09-04T08:18:44.764488Z",
     "start_time": "2023-09-04T08:18:44.759684Z"
    }
   },
   "id": "a604bd9393438a34"
  },
  {
   "cell_type": "code",
   "execution_count": 14,
   "outputs": [],
   "source": [
    "bins = numBins(len(kospi_ret))"
   ],
   "metadata": {
    "collapsed": false,
    "ExecuteTime": {
     "end_time": "2023-09-04T08:20:03.630448Z",
     "start_time": "2023-09-04T08:20:03.627494Z"
    }
   },
   "id": "87de93bad98ca07e"
  },
  {
   "cell_type": "code",
   "execution_count": 15,
   "outputs": [],
   "source": [
    "cXY=np.histogram2d(kospi_ret, kosdaq_ret)[0] \n",
    "hX=ss.entropy(np.histogram(kospi_ret,bins)[0]) # marginal \n",
    "hY=ss.entropy(np.histogram(kosdaq_ret,bins)[0]) # marginal \n",
    "iXY=mutual_info_score(None,None,contingency=cXY) \n",
    "iXYn=iXY/min(hX,hY) # normalized mutual information \n",
    "hXY=hX+hY-iXY # joint\n",
    "hX_Y=hXY-hY # conditional\n",
    "hY_X=hXY-hX # conditional"
   ],
   "metadata": {
    "collapsed": false,
    "ExecuteTime": {
     "end_time": "2023-09-04T08:20:15.480949Z",
     "start_time": "2023-09-04T08:20:15.464399Z"
    }
   },
   "id": "28c2c0b7a1769da7"
  },
  {
   "cell_type": "code",
   "execution_count": 17,
   "outputs": [
    {
     "name": "stdout",
     "output_type": "stream",
     "text": [
      "0.1945808818635761 2.9397457047255373 1.2047272772418083 1.4439688475417864\n"
     ]
    }
   ],
   "source": [
    "print(iXYn, hXY,hX_Y,hY_X)"
   ],
   "metadata": {
    "collapsed": false,
    "ExecuteTime": {
     "end_time": "2023-09-04T08:20:50.906329Z",
     "start_time": "2023-09-04T08:20:50.901947Z"
    }
   },
   "id": "555722306ca915e6"
  },
  {
   "cell_type": "code",
   "execution_count": null,
   "outputs": [],
   "source": [],
   "metadata": {
    "collapsed": false
   },
   "id": "e86b1a46b7fbe542"
  }
 ],
 "metadata": {
  "kernelspec": {
   "display_name": "Python 3",
   "language": "python",
   "name": "python3"
  },
  "language_info": {
   "codemirror_mode": {
    "name": "ipython",
    "version": 2
   },
   "file_extension": ".py",
   "mimetype": "text/x-python",
   "name": "python",
   "nbconvert_exporter": "python",
   "pygments_lexer": "ipython2",
   "version": "2.7.6"
  }
 },
 "nbformat": 4,
 "nbformat_minor": 5
}
