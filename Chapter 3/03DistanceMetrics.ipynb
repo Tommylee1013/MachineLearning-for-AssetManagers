{
 "cells": [
  {
   "cell_type": "markdown",
   "source": [
    "### Distance Metrics\n",
    "\n",
    "#### 1. Motivation\n",
    "\n",
    "정보 이론, 특히 Shannon's entropy 개념은 금융에 유용한 응용 분야를 갖고 있다. 엔트로피의 핵심 아이디어는 랜덤 변수와 관련된 불확실성의 양을 계량화하는 것이다. 많은 머신러닝 알고리즘의 1차 목표는 문제 해결과 관련된 불확실성의 양을 줄이는 것이기 때문에 정보 이론은 머신러닝에 필수적이다"
   ],
   "metadata": {
    "collapsed": false
   },
   "id": "ab59bd94d2aa2a56"
  },
  {
   "cell_type": "markdown",
   "source": [
    "#### 2. A Correlation-Based Metric\n",
    "\n",
    "상관계수는 선형적 상호의존성의 유용한 척도이다. 일단 상관계수 행렬의 잡음과 주음이 제거되면 시스템에 대한 중요한 구조 정보를 보일 수 있다. 예를 들어, 상호연관성이 매우 높은 유가증권의 군집을 식별하고자 상관계수를 사용할 수 있다\n",
    "\n",
    "그러나, 상관계수를 사용하기 전에 기술적 문제를 해결해야 한다. 상관계수는 비음성과 삼각 부등식 조건을 충족시키지 못하기 때문에 척도가 되지 못한다. 거리 척도는 집합에 대한 직관적인 위상관계를 유도하기 때문에 중요하다. 이러한 직관적 위상관계 없이 상호의존성의 비거리적 측정을 비교하는 것은 다소 일관성 없는 결과를 초래할 수 있다"
   ],
   "metadata": {
    "collapsed": false
   },
   "id": "485720a8ed0b9ce9"
  },
  {
   "cell_type": "code",
   "execution_count": 1,
   "outputs": [],
   "source": [
    "import pandas_datareader as web\n",
    "start_date = '2019-09-01'\n",
    "end_date = '2023-08-31'\n",
    "\n",
    "kodex_etf = '069500' # KODEX 200\n",
    "kospi200_etf = '069660'  # kiwoom KOSEF KOSPI 200\n",
    "kosdaq150_etf = '316670'  # kiwoom KOSDAQ 150\n",
    "samsung_code = '005930'  # Samsung\n",
    "lg_code = '066570'  # LG\n",
    "posco_code = '005490'  # POSCO\n",
    "\n",
    "kodex = web.DataReader(kodex_etf, 'naver', start = start_date, end = end_date).astype(float).Close\n",
    "kospi = web.DataReader(kospi200_etf, 'naver', start = start_date, end = end_date).astype(float).Close\n",
    "kosdaq = web.DataReader(kosdaq150_etf, 'naver', start = start_date, end = end_date).astype(float).Close\n",
    "samsung = web.DataReader(samsung_code, 'naver', start = start_date, end = end_date).astype(float).Close\n",
    "lg = web.DataReader(lg_code, 'naver', start = start_date, end = end_date).astype(float).Close\n",
    "posco = web.DataReader(posco_code, 'naver', start = start_date, end = end_date).astype(float).Close"
   ],
   "metadata": {
    "collapsed": false,
    "ExecuteTime": {
     "end_time": "2023-09-04T08:08:33.963434Z",
     "start_time": "2023-09-04T08:08:32.941533Z"
    }
   },
   "id": "aa2cf17e6726c219"
  },
  {
   "cell_type": "code",
   "execution_count": 2,
   "outputs": [],
   "source": [
    "import numpy as np\n",
    "import pandas as pd\n",
    "\n",
    "kodex_ret = np.log(kodex/kodex.shift(1)).dropna()\n",
    "kospi_ret = np.log(kospi/kospi.shift(1)).dropna()\n",
    "kosdaq_ret = np.log(kosdaq/kosdaq.shift(1)).dropna()\n",
    "samsung_ret = np.log(samsung/samsung.shift(1)).dropna()\n",
    "lg_ret = np.log(lg/lg.shift(1)).dropna()\n",
    "posco_ret = np.log(posco/posco.shift(1)).dropna()\n",
    "matrix = pd.concat([kodex_ret, kospi_ret, kosdaq_ret, samsung_ret, lg_ret, posco_ret], axis = 1)\n",
    "matrix.columns = ['KODEX','KOSPI','KOSDAQ','Samsung','LG','Posco']"
   ],
   "metadata": {
    "collapsed": false,
    "ExecuteTime": {
     "end_time": "2023-09-04T08:12:05.583929Z",
     "start_time": "2023-09-04T08:12:05.577408Z"
    }
   },
   "id": "fb23dee2fa27e822"
  },
  {
   "cell_type": "code",
   "execution_count": 3,
   "outputs": [
    {
     "data": {
      "text/plain": "            KODEX     KOSPI    KOSDAQ   Samsung        LG     Posco\nKODEX    1.000000  0.997660  0.737888  0.853203  0.522377  0.565980\nKOSPI    0.997660  1.000000  0.734899  0.854983  0.521810  0.563844\nKOSDAQ   0.737888  0.734899  1.000000  0.523702  0.375575  0.373946\nSamsung  0.853203  0.854983  0.523702  1.000000  0.385661  0.422512\nLG       0.522377  0.521810  0.375575  0.385661  1.000000  0.297815\nPosco    0.565980  0.563844  0.373946  0.422512  0.297815  1.000000",
      "text/html": "<div>\n<style scoped>\n    .dataframe tbody tr th:only-of-type {\n        vertical-align: middle;\n    }\n\n    .dataframe tbody tr th {\n        vertical-align: top;\n    }\n\n    .dataframe thead th {\n        text-align: right;\n    }\n</style>\n<table border=\"1\" class=\"dataframe\">\n  <thead>\n    <tr style=\"text-align: right;\">\n      <th></th>\n      <th>KODEX</th>\n      <th>KOSPI</th>\n      <th>KOSDAQ</th>\n      <th>Samsung</th>\n      <th>LG</th>\n      <th>Posco</th>\n    </tr>\n  </thead>\n  <tbody>\n    <tr>\n      <th>KODEX</th>\n      <td>1.000000</td>\n      <td>0.997660</td>\n      <td>0.737888</td>\n      <td>0.853203</td>\n      <td>0.522377</td>\n      <td>0.565980</td>\n    </tr>\n    <tr>\n      <th>KOSPI</th>\n      <td>0.997660</td>\n      <td>1.000000</td>\n      <td>0.734899</td>\n      <td>0.854983</td>\n      <td>0.521810</td>\n      <td>0.563844</td>\n    </tr>\n    <tr>\n      <th>KOSDAQ</th>\n      <td>0.737888</td>\n      <td>0.734899</td>\n      <td>1.000000</td>\n      <td>0.523702</td>\n      <td>0.375575</td>\n      <td>0.373946</td>\n    </tr>\n    <tr>\n      <th>Samsung</th>\n      <td>0.853203</td>\n      <td>0.854983</td>\n      <td>0.523702</td>\n      <td>1.000000</td>\n      <td>0.385661</td>\n      <td>0.422512</td>\n    </tr>\n    <tr>\n      <th>LG</th>\n      <td>0.522377</td>\n      <td>0.521810</td>\n      <td>0.375575</td>\n      <td>0.385661</td>\n      <td>1.000000</td>\n      <td>0.297815</td>\n    </tr>\n    <tr>\n      <th>Posco</th>\n      <td>0.565980</td>\n      <td>0.563844</td>\n      <td>0.373946</td>\n      <td>0.422512</td>\n      <td>0.297815</td>\n      <td>1.000000</td>\n    </tr>\n  </tbody>\n</table>\n</div>"
     },
     "execution_count": 3,
     "metadata": {},
     "output_type": "execute_result"
    }
   ],
   "source": [
    "matrix.corr()"
   ],
   "metadata": {
    "collapsed": false,
    "ExecuteTime": {
     "end_time": "2023-09-04T08:12:12.124942Z",
     "start_time": "2023-09-04T08:12:12.114078Z"
    }
   },
   "id": "de6437f8bbc4f071"
  },
  {
   "cell_type": "code",
   "execution_count": 19,
   "outputs": [],
   "source": [
    "import numpy as np\n",
    "import matplotlib.pyplot as plt\n",
    "from RandomMatrixWithSignal import cov2corr, getRndCov\n",
    "from MarcenkoPastur import getPCA\n",
    "from FittingMarcenkoPastur import findMaxEval\n",
    "from ConstantResidual import denoisedCorr, denoisedCorr2\n",
    "\n",
    "alpha, nCols, nFact, q = 0.995, 6, 100, 10\n",
    "\n",
    "cov = alpha * matrix.cov() + (1-alpha) * getRndCov(nCols, nFact)\n",
    "corr0 = cov2corr(cov)\n",
    "eVal0, eVec0 = getPCA(corr0)\n",
    "\n",
    "eMax0, var0 = findMaxEval(np.diag(eVal0), q, bWidth = 0.01)\n",
    "nFacts0 = eVal0.shape[0] - np.diag(eVal0)[::-1].searchsorted(eMax0)\n",
    "\n",
    "corr1 = denoisedCorr(eVal0, eVec0, nFacts0)\n",
    "eVal1, eVec1 = getPCA(corr1)\n",
    "denoised_eigenvalue = np.diag(eVal1)\n",
    "eigenvalue_prior = np.diag(eVal0)"
   ],
   "metadata": {
    "collapsed": false,
    "ExecuteTime": {
     "end_time": "2023-09-04T08:32:59.500866Z",
     "start_time": "2023-09-04T08:32:59.491041Z"
    }
   },
   "id": "e095d2a8e575d9e9"
  },
  {
   "cell_type": "code",
   "execution_count": 20,
   "outputs": [
    {
     "data": {
      "text/plain": "Text(0.5, 1.0, 'Denoising with Constant residual eigenvalue method')"
     },
     "execution_count": 20,
     "metadata": {},
     "output_type": "execute_result"
    },
    {
     "data": {
      "text/plain": "<Figure size 600x400 with 1 Axes>",
      "image/png": "[encoded data removed]"
     },
     "metadata": {},
     "output_type": "display_data"
    }
   ],
   "source": [
    "plt.figure(figsize = (6,4))\n",
    "plt.grid(False)\n",
    "plt.plot(eigenvalue_prior, label = 'Original eigen-function')\n",
    "plt.plot(denoised_eigenvalue, label = 'Denoised eigen-function', ls = '--')\n",
    "plt.yscale('log')\n",
    "plt.xlabel(r'$\\lambda$', fontfamily='Serif')\n",
    "plt.ylabel(r'number of $\\lambda$', fontfamily='Serif')\n",
    "plt.legend(loc='upper right', fontsize=9)\n",
    "plt.title('Denoising with Constant residual eigenvalue method', fontsize=10, fontfamily='Serif')"
   ],
   "metadata": {
    "collapsed": false,
    "ExecuteTime": {
     "end_time": "2023-09-04T08:33:36.584882Z",
     "start_time": "2023-09-04T08:33:36.326786Z"
    }
   },
   "id": "dbe8982161c0bdda"
  },
  {
   "cell_type": "code",
   "execution_count": 23,
   "outputs": [
    {
     "data": {
      "text/plain": "array([[ 0.64263467, -0.35422997, -0.22916047,  0.52777864, -0.61018994,\n         0.05335529],\n       [-0.04721656,  0.28092835, -0.79702726,  0.09435643,  0.35317647,\n         0.38737518],\n       [-0.65705758,  0.38576438, -0.20978944, -0.04600428, -0.65656866,\n         0.15689025],\n       [-0.24361258,  0.00210571,  0.23286825,  0.81450602,  0.25273222,\n         0.15800076],\n       [-0.08061912,  0.39666561,  0.46229874, -0.067245  , -0.08708994,\n         0.65731381],\n       [-0.29533047,  0.69959859, -0.01654335,  0.20612673, -0.0198487 ,\n        -0.60452746]])"
     },
     "execution_count": 23,
     "metadata": {},
     "output_type": "execute_result"
    }
   ],
   "source": [
    "eVec1"
   ],
   "metadata": {
    "collapsed": false,
    "ExecuteTime": {
     "end_time": "2023-09-04T08:34:24.771447Z",
     "start_time": "2023-09-04T08:34:24.756438Z"
    }
   },
   "id": "e6732c7c251999a3"
  },
  {
   "cell_type": "code",
   "execution_count": 21,
   "id": "initial_id",
   "metadata": {
    "collapsed": true,
    "ExecuteTime": {
     "end_time": "2023-09-04T08:33:48.300246Z",
     "start_time": "2023-09-04T08:33:48.291415Z"
    }
   },
   "outputs": [],
   "source": [
    "def corrBasedMetric(corr : pd.DataFrame) -> pd.DataFrame :\n",
    "    T = len(corr.iloc[:,0])\n",
    "    result = np.sqrt(2 * T) * corr\n",
    "    return result"
   ]
  },
  {
   "cell_type": "code",
   "execution_count": 26,
   "outputs": [
    {
     "data": {
      "text/plain": "      KODEX     KOSPI    KOSDAQ   Samsung        LG     Posco\n0  2.226152 -1.227089 -0.793835  1.828279 -2.113760  0.184828\n1 -0.163563  0.973164 -2.760983  0.326860  1.223439  1.341907\n2 -2.276114  1.336327 -0.726732 -0.159364 -2.274421  0.543484\n3 -0.843899  0.007294  0.806679  2.821532  0.875490  0.547331\n4 -0.279273  1.374090  1.601450 -0.232944 -0.301688  2.277002\n5 -1.023055  2.423481 -0.057308  0.714044 -0.068758 -2.094145",
      "text/html": "<div>\n<style scoped>\n    .dataframe tbody tr th:only-of-type {\n        vertical-align: middle;\n    }\n\n    .dataframe tbody tr th {\n        vertical-align: top;\n    }\n\n    .dataframe thead th {\n        text-align: right;\n    }\n</style>\n<table border=\"1\" class=\"dataframe\">\n  <thead>\n    <tr style=\"text-align: right;\">\n      <th></th>\n      <th>KODEX</th>\n      <th>KOSPI</th>\n      <th>KOSDAQ</th>\n      <th>Samsung</th>\n      <th>LG</th>\n      <th>Posco</th>\n    </tr>\n  </thead>\n  <tbody>\n    <tr>\n      <th>0</th>\n      <td>2.226152</td>\n      <td>-1.227089</td>\n      <td>-0.793835</td>\n      <td>1.828279</td>\n      <td>-2.113760</td>\n      <td>0.184828</td>\n    </tr>\n    <tr>\n      <th>1</th>\n      <td>-0.163563</td>\n      <td>0.973164</td>\n      <td>-2.760983</td>\n      <td>0.326860</td>\n      <td>1.223439</td>\n      <td>1.341907</td>\n    </tr>\n    <tr>\n      <th>2</th>\n      <td>-2.276114</td>\n      <td>1.336327</td>\n      <td>-0.726732</td>\n      <td>-0.159364</td>\n      <td>-2.274421</td>\n      <td>0.543484</td>\n    </tr>\n    <tr>\n      <th>3</th>\n      <td>-0.843899</td>\n      <td>0.007294</td>\n      <td>0.806679</td>\n      <td>2.821532</td>\n      <td>0.875490</td>\n      <td>0.547331</td>\n    </tr>\n    <tr>\n      <th>4</th>\n      <td>-0.279273</td>\n      <td>1.374090</td>\n      <td>1.601450</td>\n      <td>-0.232944</td>\n      <td>-0.301688</td>\n      <td>2.277002</td>\n    </tr>\n    <tr>\n      <th>5</th>\n      <td>-1.023055</td>\n      <td>2.423481</td>\n      <td>-0.057308</td>\n      <td>0.714044</td>\n      <td>-0.068758</td>\n      <td>-2.094145</td>\n    </tr>\n  </tbody>\n</table>\n</div>"
     },
     "execution_count": 26,
     "metadata": {},
     "output_type": "execute_result"
    }
   ],
   "source": [
    "corrBasedMetric(pd.DataFrame(eVec1, columns = matrix.columns))"
   ],
   "metadata": {
    "collapsed": false,
    "ExecuteTime": {
     "end_time": "2023-09-04T08:35:11.953953Z",
     "start_time": "2023-09-04T08:35:11.944110Z"
    }
   },
   "id": "36bcb0229db9ae75"
  },
  {
   "cell_type": "markdown",
   "source": [
    "#### 3. Marginal and Joint Entropy"
   ],
   "metadata": {
    "collapsed": false
   },
   "id": "485287684c647df6"
  },
  {
   "cell_type": "code",
   "execution_count": 10,
   "outputs": [],
   "source": [
    "import numpy as np,scipy.stats as ss\n",
    "from sklearn.metrics import mutual_info_score \n",
    "\n",
    "def numBins(nObs,corr=None):\n",
    "    if corr is None: # univariate case\n",
    "        z=(8+324*nObs+12*(36*nObs+729*nObs**2)**.5)**(1/3.)\n",
    "        b=round(z/6.+2./(3*z)+1./3) \n",
    "    else: # bivariate case\n",
    "        b=round(2**-.5*(1+(1+24*nObs/(1.-corr**2))**.5)**.5) \n",
    "    return int(b)\n",
    "def varInfo(x,y,norm=False):\n",
    "    bXY=numBins(x.shape[0],corr=np.corrcoef(x,y)[0,1]) \n",
    "    cXY=np.histogram2d(x,y,bXY)[0] \n",
    "    iXY=mutual_info_score(None,None,contingency=cXY) \n",
    "    hX=ss.entropy(np.histogram(x,bXY)[0]) # marginal \n",
    "    hY=ss.entropy(np.histogram(y,bXY)[0]) # marginal \n",
    "    vXY=hX+hY-2*iXY # variation of information\n",
    "    if norm:\n",
    "        hXY=hX+hY-iXY # joint\n",
    "        vXY/=hXY # normalized variation of information\n",
    "    return vXY"
   ],
   "metadata": {
    "collapsed": false,
    "ExecuteTime": {
     "end_time": "2023-09-04T08:18:44.764488Z",
     "start_time": "2023-09-04T08:18:44.759684Z"
    }
   },
   "id": "a604bd9393438a34"
  },
  {
   "cell_type": "code",
   "execution_count": 14,
   "outputs": [],
   "source": [
    "bins = numBins(len(kospi_ret))"
   ],
   "metadata": {
    "collapsed": false,
    "ExecuteTime": {
     "end_time": "2023-09-04T08:20:03.630448Z",
     "start_time": "2023-09-04T08:20:03.627494Z"
    }
   },
   "id": "87de93bad98ca07e"
  },
  {
   "cell_type": "code",
   "execution_count": 15,
   "outputs": [],
   "source": [
    "cXY=np.histogram2d(kospi_ret, kosdaq_ret)[0] \n",
    "hX=ss.entropy(np.histogram(kospi_ret,bins)[0]) # marginal \n",
    "hY=ss.entropy(np.histogram(kosdaq_ret,bins)[0]) # marginal \n",
    "iXY=mutual_info_score(None,None,contingency=cXY) \n",
    "iXYn=iXY/min(hX,hY) # normalized mutual information \n",
    "hXY=hX+hY-iXY # joint\n",
    "hX_Y=hXY-hY # conditional\n",
    "hY_X=hXY-hX # conditional"
   ],
   "metadata": {
    "collapsed": false,
    "ExecuteTime": {
     "end_time": "2023-09-04T08:20:15.480949Z",
     "start_time": "2023-09-04T08:20:15.464399Z"
    }
   },
   "id": "28c2c0b7a1769da7"
  },
  {
   "cell_type": "code",
   "execution_count": 17,
   "outputs": [
    {
     "name": "stdout",
     "output_type": "stream",
     "text": [
      "0.1945808818635761 2.9397457047255373 1.2047272772418083 1.4439688475417864\n"
     ]
    }
   ],
   "source": [
    "print(iXYn, hXY,hX_Y,hY_X)"
   ],
   "metadata": {
    "collapsed": false,
    "ExecuteTime": {
     "end_time": "2023-09-04T08:20:50.906329Z",
     "start_time": "2023-09-04T08:20:50.901947Z"
    }
   },
   "id": "555722306ca915e6"
  },
  {
   "cell_type": "code",
   "execution_count": null,
   "outputs": [],
   "source": [],
   "metadata": {
    "collapsed": false
   },
   "id": "e86b1a46b7fbe542"
  }
 ],
 "metadata": {
  "kernelspec": {
   "display_name": "Python 3",
   "language": "python",
   "name": "python3"
  },
  "language_info": {
   "codemirror_mode": {
    "name": "ipython",
    "version": 2
   },
   "file_extension": ".py",
   "mimetype": "text/x-python",
   "name": "python",
   "nbconvert_exporter": "python",
   "pygments_lexer": "ipython2",
   "version": "2.7.6"
  }
 },
 "nbformat": 4,
 "nbformat_minor": 5
}
