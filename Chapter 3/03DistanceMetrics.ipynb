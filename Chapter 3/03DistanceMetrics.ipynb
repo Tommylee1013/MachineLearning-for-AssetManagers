{
 "cells": [
  {
   "cell_type": "markdown",
   "source": [
    "### Distance Metrics\n",
    "\n",
    "#### 1. Motivation\n",
    "\n",
    "정보 이론, 특히 Shannon's entropy 개념은 금융에 유용한 응용 분야를 갖고 있다. 엔트로피의 핵심 아이디어는 랜덤 변수와 관련된 불확실성의 양을 계량화하는 것이다. 많은 머신러닝 알고리즘의 1차 목표는 문제 해결과 관련된 불확실성의 양을 줄이는 것이기 때문에 정보 이론은 머신러닝에 필수적이다"
   ],
   "metadata": {
    "collapsed": false
   },
   "id": "ab59bd94d2aa2a56"
  },
  {
   "cell_type": "markdown",
   "source": [
    "#### 2. A Correlation-Based Metric"
   ],
   "metadata": {
    "collapsed": false
   },
   "id": "485720a8ed0b9ce9"
  },
  {
   "cell_type": "code",
   "execution_count": 22,
   "id": "initial_id",
   "metadata": {
    "collapsed": true,
    "ExecuteTime": {
     "end_time": "2023-09-03T17:16:18.570398Z",
     "start_time": "2023-09-03T17:16:18.562882Z"
    }
   },
   "outputs": [],
   "source": [
    "import numpy as np\n",
    "import pandas as pd\n",
    "\n",
    "def corrBasedMetric(x, y):\n",
    "    T = len(x)\n",
    "    corr = x.corr(y)\n",
    "    result = np.sqrt(2 * T) * corr\n",
    "    return result"
   ]
  },
  {
   "cell_type": "code",
   "execution_count": null,
   "outputs": [],
   "source": [],
   "metadata": {
    "collapsed": false
   },
   "id": "36bcb0229db9ae75"
  }
 ],
 "metadata": {
  "kernelspec": {
   "display_name": "Python 3",
   "language": "python",
   "name": "python3"
  },
  "language_info": {
   "codemirror_mode": {
    "name": "ipython",
    "version": 2
   },
   "file_extension": ".py",
   "mimetype": "text/x-python",
   "name": "python",
   "nbconvert_exporter": "python",
   "pygments_lexer": "ipython2",
   "version": "2.7.6"
  }
 },
 "nbformat": 4,
 "nbformat_minor": 5
}
